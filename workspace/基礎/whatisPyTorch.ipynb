{
 "cells": [
  {
   "cell_type": "markdown",
   "id": "82a4a934-563d-40c2-acf3-724ebfc20762",
   "metadata": {},
   "source": [
    "# PyTorchとは？\n",
    "https://colab.research.google.com/github/YutaroOgawa/pytorch_tutorials_jp/blob/main/notebook/1_Learning%20PyTorch/1_1_tensor_tutorial_jp.ipynb"
   ]
  },
  {
   "cell_type": "code",
   "execution_count": 1,
   "id": "ce5cff10-412b-4160-8962-8e69fd86a7f8",
   "metadata": {},
   "outputs": [],
   "source": [
    "%matplotlib inline"
   ]
  },
  {
   "cell_type": "code",
   "execution_count": 2,
   "id": "c8721543-80f3-4d54-85ee-f8857947ef1c",
   "metadata": {},
   "outputs": [],
   "source": [
    "from __future__ import print_function\n",
    "\n",
    "import torch"
   ]
  },
  {
   "cell_type": "code",
   "execution_count": 3,
   "id": "df0771c8-849c-4a2e-8e23-bc30c459095c",
   "metadata": {},
   "outputs": [],
   "source": [
    "x = torch.empty(5, 3)"
   ]
  },
  {
   "cell_type": "code",
   "execution_count": 4,
   "id": "b98c90c9-daeb-4813-bfdc-f65eebe9e4b5",
   "metadata": {
    "tags": []
   },
   "outputs": [],
   "source": [
    "x = torch.rand(5, 3)"
   ]
  },
  {
   "cell_type": "code",
   "execution_count": 5,
   "id": "138c9af2-82de-4775-8c3f-3e6abe66835a",
   "metadata": {},
   "outputs": [],
   "source": [
    "x = torch.zeros_like(x, dtype=torch.long)"
   ]
  },
  {
   "cell_type": "code",
   "execution_count": 6,
   "id": "7df27b22-29cc-477f-9afc-1c7fab50c548",
   "metadata": {},
   "outputs": [],
   "source": [
    "x = torch.tensor([5.5, 3])"
   ]
  },
  {
   "cell_type": "code",
   "execution_count": 7,
   "id": "db72ff19-f123-4aac-8370-5e7603b4daac",
   "metadata": {},
   "outputs": [
    {
     "name": "stdout",
     "output_type": "stream",
     "text": [
      "tensor([[1., 1., 1.],\n",
      "        [1., 1., 1.],\n",
      "        [1., 1., 1.],\n",
      "        [1., 1., 1.],\n",
      "        [1., 1., 1.]], dtype=torch.float64)\n",
      "tensor([[ 0.6812, -1.3304,  1.0144],\n",
      "        [-0.0796, -2.1058,  0.2453],\n",
      "        [-0.2965,  0.0273, -0.2091],\n",
      "        [ 0.6318,  0.1741,  1.1260],\n",
      "        [ 1.0322,  0.4109, -1.5252]])\n"
     ]
    }
   ],
   "source": [
    "x = x.new_ones(5, 3, dtype=torch.double)\n",
    "print(x)\n",
    "\n",
    "x = torch.randn_like(x, dtype=torch.float)\n",
    "print(x)"
   ]
  },
  {
   "cell_type": "code",
   "execution_count": 8,
   "id": "6a210611-b455-4730-b9f4-6d89710e2590",
   "metadata": {},
   "outputs": [
    {
     "name": "stdout",
     "output_type": "stream",
     "text": [
      "torch.Size([5, 3])\n"
     ]
    }
   ],
   "source": [
    "print(x.size())"
   ]
  },
  {
   "cell_type": "code",
   "execution_count": 9,
   "id": "cf6e5aaf",
   "metadata": {},
   "outputs": [
    {
     "name": "stdout",
     "output_type": "stream",
     "text": [
      "tensor([[ 0.7459, -0.7025,  1.3985],\n",
      "        [ 0.0850, -1.3019,  0.6968],\n",
      "        [-0.0437,  0.7442,  0.7268],\n",
      "        [ 0.6384,  0.2293,  1.6989],\n",
      "        [ 1.1339,  1.1870, -0.8210]])\n"
     ]
    }
   ],
   "source": [
    "y = torch.rand(5, 3)\n",
    "print(x + y)"
   ]
  },
  {
   "cell_type": "code",
   "execution_count": 10,
   "id": "77599203",
   "metadata": {},
   "outputs": [
    {
     "data": {
      "text/plain": [
       "tensor([[ 0.7459, -0.7025,  1.3985],\n",
       "        [ 0.0850, -1.3019,  0.6968],\n",
       "        [-0.0437,  0.7442,  0.7268],\n",
       "        [ 0.6384,  0.2293,  1.6989],\n",
       "        [ 1.1339,  1.1870, -0.8210]])"
      ]
     },
     "execution_count": 10,
     "metadata": {},
     "output_type": "execute_result"
    }
   ],
   "source": [
    "torch.add(x, y)"
   ]
  },
  {
   "cell_type": "code",
   "execution_count": 11,
   "id": "b7a4be9e",
   "metadata": {},
   "outputs": [
    {
     "data": {
      "text/plain": [
       "tensor([[ 0.7459, -0.7025,  1.3985],\n",
       "        [ 0.0850, -1.3019,  0.6968],\n",
       "        [-0.0437,  0.7442,  0.7268],\n",
       "        [ 0.6384,  0.2293,  1.6989],\n",
       "        [ 1.1339,  1.1870, -0.8210]])"
      ]
     },
     "execution_count": 11,
     "metadata": {},
     "output_type": "execute_result"
    }
   ],
   "source": [
    "y.add_(x)"
   ]
  },
  {
   "cell_type": "code",
   "execution_count": 12,
   "id": "1f617346",
   "metadata": {},
   "outputs": [
    {
     "data": {
      "text/plain": [
       "tensor([-1.3304, -2.1058,  0.0273,  0.1741,  0.4109])"
      ]
     },
     "execution_count": 12,
     "metadata": {},
     "output_type": "execute_result"
    }
   ],
   "source": [
    "x[:, 1]"
   ]
  },
  {
   "cell_type": "code",
   "execution_count": 13,
   "id": "d3b4be8f",
   "metadata": {},
   "outputs": [],
   "source": [
    "a = torch.ones(5)"
   ]
  },
  {
   "cell_type": "code",
   "execution_count": 14,
   "id": "59e500a0",
   "metadata": {},
   "outputs": [],
   "source": [
    "b = a.numpy()"
   ]
  },
  {
   "cell_type": "code",
   "execution_count": 15,
   "id": "cd2ebd17",
   "metadata": {},
   "outputs": [
    {
     "data": {
      "text/plain": [
       "tensor([2., 2., 2., 2., 2.])"
      ]
     },
     "execution_count": 15,
     "metadata": {},
     "output_type": "execute_result"
    }
   ],
   "source": [
    "a.add_(1)"
   ]
  },
  {
   "cell_type": "code",
   "execution_count": 16,
   "id": "3bb875a7",
   "metadata": {},
   "outputs": [
    {
     "name": "stdout",
     "output_type": "stream",
     "text": [
      "tensor([[ 1.6812, -0.3304,  2.0144],\n",
      "        [ 0.9204, -1.1058,  1.2453],\n",
      "        [ 0.7035,  1.0273,  0.7909],\n",
      "        [ 1.6318,  1.1741,  2.1260],\n",
      "        [ 2.0322,  1.4109, -0.5252]], device='cuda:0')\n",
      "tensor([[ 1.6812, -0.3304,  2.0144],\n",
      "        [ 0.9204, -1.1058,  1.2453],\n",
      "        [ 0.7035,  1.0273,  0.7909],\n",
      "        [ 1.6318,  1.1741,  2.1260],\n",
      "        [ 2.0322,  1.4109, -0.5252]], dtype=torch.float64)\n"
     ]
    }
   ],
   "source": [
    "if torch.cuda.is_available():\n",
    "    device = torch.device(\"cuda\")  # a CUDA device object\n",
    "    y = torch.ones_like(x, device=device)  # directly create a tensor on GPU\n",
    "    x = x.to(device)  # or just use strings ``.to(\"cuda\")``\n",
    "    z = x + y\n",
    "    print(z)\n",
    "    print(z.to(\"cpu\", torch.double))  # ``.to`` can also change dtype together!"
   ]
  },
  {
   "cell_type": "code",
   "execution_count": null,
   "id": "ec987ddc",
   "metadata": {},
   "outputs": [],
   "source": []
  }
 ],
 "metadata": {
  "kernelspec": {
   "display_name": "Python 3 (ipykernel)",
   "language": "python",
   "name": "python3"
  },
  "language_info": {
   "codemirror_mode": {
    "name": "ipython",
    "version": 3
   },
   "file_extension": ".py",
   "mimetype": "text/x-python",
   "name": "python",
   "nbconvert_exporter": "python",
   "pygments_lexer": "ipython3",
   "version": "3.8.10"
  },
  "vscode": {
   "interpreter": {
    "hash": "916dbcbb3f70747c44a77c7bcd40155683ae19c65e1c03b4aa3499c5328201f1"
   }
  }
 },
 "nbformat": 4,
 "nbformat_minor": 5
}
