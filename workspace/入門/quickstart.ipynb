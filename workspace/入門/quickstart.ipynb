{
 "cells": [
  {
   "cell_type": "code",
   "execution_count": 1,
   "id": "4d37b9d2-bacd-421b-aedf-61672e8ff7c1",
   "metadata": {},
   "outputs": [],
   "source": [
    "%matplotlib inline"
   ]
  },
  {
   "cell_type": "code",
   "execution_count": 2,
   "id": "b4a1b2b2-eb70-403e-9f07-bbdf96546d3d",
   "metadata": {},
   "outputs": [],
   "source": [
    "import torch\n",
    "from torch import nn\n",
    "from torch.utils.data import DataLoader\n",
    "from torchvision import datasets\n",
    "from torchvision.transforms import Compose, Lambda, ToTensor"
   ]
  },
  {
   "cell_type": "code",
   "execution_count": 3,
   "id": "9a316320-1989-4858-a00a-b7b0dd36e8ba",
   "metadata": {},
   "outputs": [],
   "source": [
    "# 訓練データをdatasetsからダウンロード\n",
    "training_data = datasets.FashionMNIST(\n",
    "    root=\"data\",\n",
    "    train=True,\n",
    "    download=True,\n",
    "    transform=ToTensor(),\n",
    ")\n",
    "\n",
    "# テストデータをdatasetsからダウンロード\n",
    "test_data = datasets.FashionMNIST(\n",
    "    root=\"data\",\n",
    "    train=False,\n",
    "    download=True,\n",
    "    transform=ToTensor(),\n",
    ")"
   ]
  },
  {
   "cell_type": "code",
   "execution_count": 4,
   "id": "cde9f781-e4ad-4c9b-bee6-c11180d91b3e",
   "metadata": {},
   "outputs": [
    {
     "name": "stdout",
     "output_type": "stream",
     "text": [
      "Shape of X [N, C, H, W]:  torch.Size([64, 1, 28, 28])\n",
      "Shape of y:  torch.Size([64]) torch.int64\n"
     ]
    }
   ],
   "source": [
    "batch_size = 64\n",
    "\n",
    "# データローダーの作成\n",
    "train_dataloader = DataLoader(training_data, batch_size=batch_size)\n",
    "test_dataloader = DataLoader(test_data, batch_size=batch_size)\n",
    "\n",
    "for X, y in test_dataloader:\n",
    "    print(\"Shape of X [N, C, H, W]: \", X.shape)\n",
    "    print(\"Shape of y: \", y.shape, y.dtype)\n",
    "    break"
   ]
  },
  {
   "cell_type": "code",
   "execution_count": 5,
   "id": "7df38b05-aa6e-430a-985c-cfa368ad4a79",
   "metadata": {},
   "outputs": [
    {
     "name": "stdout",
     "output_type": "stream",
     "text": [
      "Using cuda device\n",
      "NeuralNetwork(\n",
      "  (flatten): Flatten(start_dim=1, end_dim=-1)\n",
      "  (linear_relu_stack): Sequential(\n",
      "    (0): Linear(in_features=784, out_features=512, bias=True)\n",
      "    (1): ReLU()\n",
      "    (2): Linear(in_features=512, out_features=512, bias=True)\n",
      "    (3): ReLU()\n",
      "    (4): Linear(in_features=512, out_features=10, bias=True)\n",
      "    (5): ReLU()\n",
      "  )\n",
      ")\n"
     ]
    }
   ],
   "source": [
    "# 訓練に際して、可能であればGPU（cuda）を設定します。GPUが搭載されていない場合はCPUを使用します\n",
    "device = \"cuda\" if torch.cuda.is_available() else \"cpu\"\n",
    "print(\"Using {} device\".format(device))\n",
    "\n",
    "# modelを定義します\n",
    "class NeuralNetwork(nn.Module):\n",
    "    def __init__(self):\n",
    "        super(NeuralNetwork, self).__init__()\n",
    "        self.flatten = nn.Flatten()\n",
    "        self.linear_relu_stack = nn.Sequential(\n",
    "            nn.Linear(28 * 28, 512),\n",
    "            nn.ReLU(),\n",
    "            nn.Linear(512, 512),\n",
    "            nn.ReLU(),\n",
    "            nn.Linear(512, 10),\n",
    "            nn.ReLU(),\n",
    "        )\n",
    "\n",
    "    def forward(self, x):\n",
    "        x = self.flatten(x)\n",
    "        logits = self.linear_relu_stack(x)\n",
    "        return logits\n",
    "\n",
    "\n",
    "model = NeuralNetwork().to(device)\n",
    "print(model)"
   ]
  },
  {
   "cell_type": "code",
   "execution_count": 6,
   "id": "9f211022-0545-4c7d-b974-e4baf7175298",
   "metadata": {},
   "outputs": [],
   "source": [
    "loss_fn = nn.CrossEntropyLoss()\n",
    "optimizer = torch.optim.SGD(model.parameters(), lr=1e-3)"
   ]
  },
  {
   "cell_type": "code",
   "execution_count": 7,
   "id": "5a4fa4f2-434a-4ff4-8864-2da3146e9a78",
   "metadata": {},
   "outputs": [],
   "source": [
    "def train(dataloader, model, loss_fn, optimizer):\n",
    "    size = len(dataloader.dataset)\n",
    "    for batch, (X, y) in enumerate(dataloader):\n",
    "        X, y = X.to(device), y.to(device)\n",
    "\n",
    "        # 損失誤差を計算\n",
    "        pred = model(X)\n",
    "        loss = loss_fn(pred, y)\n",
    "\n",
    "        # バックプロパゲーション\n",
    "        optimizer.zero_grad()\n",
    "        loss.backward()\n",
    "        optimizer.step()\n",
    "\n",
    "        if batch % 100 == 0:\n",
    "            loss, current = loss.item(), batch * len(X)\n",
    "            print(f\"loss: {loss:>7f}  [{current:>5d}/{size:>5d}]\")"
   ]
  },
  {
   "cell_type": "code",
   "execution_count": 8,
   "id": "b84bfd79-82c9-4a82-9240-fe66b37906f7",
   "metadata": {},
   "outputs": [],
   "source": [
    "def test(dataloader, model):\n",
    "    size = len(dataloader.dataset)\n",
    "    model.eval()\n",
    "    test_loss, correct = 0, 0\n",
    "    with torch.no_grad():\n",
    "        for X, y in dataloader:\n",
    "            X, y = X.to(device), y.to(device)\n",
    "            pred = model(X)\n",
    "            test_loss += loss_fn(pred, y).item()\n",
    "            correct += (pred.argmax(1) == y).type(torch.float).sum().item()\n",
    "    test_loss /= size\n",
    "    correct /= size\n",
    "    print(\n",
    "        f\"Test Error: \\n Accuracy: {(100*correct):>0.1f}%, Avg loss: {test_loss:>8f} \\n\"\n",
    "    )"
   ]
  },
  {
   "cell_type": "code",
   "execution_count": 9,
   "id": "5b536c70-2b89-4583-aeac-f5aa860247fe",
   "metadata": {},
   "outputs": [
    {
     "name": "stdout",
     "output_type": "stream",
     "text": [
      "Epoch 1\n",
      "-------------------------------\n",
      "loss: 2.296406  [    0/60000]\n",
      "loss: 2.293276  [ 6400/60000]\n",
      "loss: 2.281603  [12800/60000]\n",
      "loss: 2.286310  [19200/60000]\n",
      "loss: 2.268842  [25600/60000]\n",
      "loss: 2.253444  [32000/60000]\n",
      "loss: 2.242759  [38400/60000]\n",
      "loss: 2.225385  [44800/60000]\n",
      "loss: 2.230216  [51200/60000]\n",
      "loss: 2.216670  [57600/60000]\n",
      "Test Error: \n",
      " Accuracy: 48.9%, Avg loss: 0.034813 \n",
      "\n",
      "Epoch 2\n",
      "-------------------------------\n",
      "loss: 2.201819  [    0/60000]\n",
      "loss: 2.208425  [ 6400/60000]\n",
      "loss: 2.180205  [12800/60000]\n",
      "loss: 2.207974  [19200/60000]\n",
      "loss: 2.153578  [25600/60000]\n",
      "loss: 2.141976  [32000/60000]\n",
      "loss: 2.113621  [38400/60000]\n",
      "loss: 2.081248  [44800/60000]\n",
      "loss: 2.107136  [51200/60000]\n",
      "loss: 2.076126  [57600/60000]\n",
      "Test Error: \n",
      " Accuracy: 52.4%, Avg loss: 0.032491 \n",
      "\n",
      "Epoch 3\n",
      "-------------------------------\n",
      "loss: 2.058903  [    0/60000]\n",
      "loss: 2.050228  [ 6400/60000]\n",
      "loss: 1.992362  [12800/60000]\n",
      "loss: 2.044575  [19200/60000]\n",
      "loss: 1.945965  [25600/60000]\n",
      "loss: 1.951724  [32000/60000]\n",
      "loss: 1.885609  [38400/60000]\n",
      "loss: 1.837843  [44800/60000]\n",
      "loss: 1.914112  [51200/60000]\n",
      "loss: 1.856963  [57600/60000]\n",
      "Test Error: \n",
      " Accuracy: 56.4%, Avg loss: 0.028865 \n",
      "\n",
      "Epoch 4\n",
      "-------------------------------\n",
      "loss: 1.844863  [    0/60000]\n",
      "loss: 1.816955  [ 6400/60000]\n",
      "loss: 1.732577  [12800/60000]\n",
      "loss: 1.815461  [19200/60000]\n",
      "loss: 1.708793  [25600/60000]\n",
      "loss: 1.740604  [32000/60000]\n",
      "loss: 1.620400  [38400/60000]\n",
      "loss: 1.583612  [44800/60000]\n",
      "loss: 1.727351  [51200/60000]\n",
      "loss: 1.646497  [57600/60000]\n",
      "Test Error: \n",
      " Accuracy: 60.5%, Avg loss: 0.025527 \n",
      "\n",
      "Epoch 5\n",
      "-------------------------------\n",
      "loss: 1.651497  [    0/60000]\n",
      "loss: 1.617649  [ 6400/60000]\n",
      "loss: 1.523322  [12800/60000]\n",
      "loss: 1.628943  [19200/60000]\n",
      "loss: 1.549957  [25600/60000]\n",
      "loss: 1.591872  [32000/60000]\n",
      "loss: 1.425770  [38400/60000]\n",
      "loss: 1.411294  [44800/60000]\n",
      "loss: 1.602295  [51200/60000]\n",
      "loss: 1.505521  [57600/60000]\n",
      "Test Error: \n",
      " Accuracy: 61.6%, Avg loss: 0.023320 \n",
      "\n",
      "Done!\n"
     ]
    }
   ],
   "source": [
    "epochs = 5\n",
    "for t in range(epochs):\n",
    "    print(f\"Epoch {t+1}\\n-------------------------------\")\n",
    "    train(train_dataloader, model, loss_fn, optimizer)\n",
    "    test(test_dataloader, model)\n",
    "print(\"Done!\")"
   ]
  },
  {
   "cell_type": "code",
   "execution_count": 10,
   "id": "2e80ae37-f6fb-476e-a825-86fd34a18312",
   "metadata": {},
   "outputs": [
    {
     "name": "stdout",
     "output_type": "stream",
     "text": [
      "Saved PyTorch Model State to model.pth\n"
     ]
    }
   ],
   "source": [
    "torch.save(model.state_dict(), \"model.pth\")\n",
    "print(\"Saved PyTorch Model State to model.pth\")"
   ]
  },
  {
   "cell_type": "code",
   "execution_count": 11,
   "id": "4e9e033d-b05a-4651-a82d-2167a688d32b",
   "metadata": {},
   "outputs": [
    {
     "data": {
      "text/plain": [
       "<All keys matched successfully>"
      ]
     },
     "execution_count": 11,
     "metadata": {},
     "output_type": "execute_result"
    }
   ],
   "source": [
    "model = NeuralNetwork()\n",
    "model.load_state_dict(torch.load(\"model.pth\"))"
   ]
  },
  {
   "cell_type": "code",
   "execution_count": 12,
   "id": "af108005-e7a5-4faf-904b-77f566ffea81",
   "metadata": {},
   "outputs": [
    {
     "name": "stdout",
     "output_type": "stream",
     "text": [
      "Predicted: \"Ankle boot\", Actual: \"Ankle boot\"\n"
     ]
    }
   ],
   "source": [
    "classes = [\n",
    "    \"T-shirt/top\",\n",
    "    \"Trouser\",\n",
    "    \"Pullover\",\n",
    "    \"Dress\",\n",
    "    \"Coat\",\n",
    "    \"Sandal\",\n",
    "    \"Shirt\",\n",
    "    \"Sneaker\",\n",
    "    \"Bag\",\n",
    "    \"Ankle boot\",\n",
    "]\n",
    "\n",
    "model.eval()\n",
    "x, y = test_data[0][0], test_data[0][1]\n",
    "with torch.no_grad():\n",
    "    pred = model(x)\n",
    "    predicted, actual = classes[pred[0].argmax(0)], classes[y]\n",
    "    print(f'Predicted: \"{predicted}\", Actual: \"{actual}\"')"
   ]
  },
  {
   "cell_type": "code",
   "execution_count": null,
   "id": "a4d6cc92-7707-4966-b5d8-e5468ba8a6ff",
   "metadata": {},
   "outputs": [],
   "source": []
  }
 ],
 "metadata": {
  "kernelspec": {
   "display_name": "Python 3 (ipykernel)",
   "language": "python",
   "name": "python3"
  },
  "language_info": {
   "codemirror_mode": {
    "name": "ipython",
    "version": 3
   },
   "file_extension": ".py",
   "mimetype": "text/x-python",
   "name": "python",
   "nbconvert_exporter": "python",
   "pygments_lexer": "ipython3",
   "version": "3.8.10"
  }
 },
 "nbformat": 4,
 "nbformat_minor": 5
}
