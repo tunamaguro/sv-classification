{
 "cells": [
  {
   "cell_type": "code",
   "execution_count": null,
   "metadata": {},
   "outputs": [],
   "source": [
    "%matplotlib inline\n",
    "import tensorflow as tf\n",
    "\n",
    "mnist = tf.keras.datasets.mnist\n",
    "\n",
    "(x_train, y_train), (x_test, y_test) = mnist.load_data()\n",
    "x_train, x_test = x_train / 255.0, x_test / 255.0\n",
    "\n",
    "model=tf.keras.models.Sequential([\n",
    "  tf.keras.layers.Flatten(input_shape=(28, 28)),\n",
    "  tf.keras.layers.Dense(128, activation='relu'),\n",
    "  tf.keras.layers.Dropout(0.2),\n",
    "  tf.keras.layers.Dense(10)\n",
    "])\n",
    "\n",
    "predictions = model(x_train[:1]).numpy()\n",
    "tf.nn.softmax(predictions).numpy()\n",
    "\n",
    "loss_fn=tf.keras.losses.SparseCategoricalCrossentropy(from_logits=True)\n",
    "\n",
    "loss_fn(y_train[:1], predictions).numpy()\n",
    "\n",
    "model.compile(optimizer='adam',\n",
    "              loss=loss_fn,\n",
    "              metrics=['accuracy'])\n",
    "\n",
    "model.fit(x_train, y_train, epochs=5)"
   ]
  },
  {
   "cell_type": "code",
   "execution_count": 2,
   "metadata": {},
   "outputs": [
    {
     "name": "stdout",
     "output_type": "stream",
     "text": [
      "313/313 - 1s - loss: 0.0752 - accuracy: 0.9771 - 893ms/epoch - 3ms/step\n"
     ]
    },
    {
     "data": {
      "text/plain": [
       "[0.07520498335361481, 0.9771000146865845]"
      ]
     },
     "execution_count": 2,
     "metadata": {},
     "output_type": "execute_result"
    }
   ],
   "source": [
    "model.evaluate(x_test,  y_test, verbose=2)"
   ]
  },
  {
   "cell_type": "code",
   "execution_count": 3,
   "metadata": {},
   "outputs": [],
   "source": [
    "probability_model = tf.keras.Sequential([\n",
    "  model,\n",
    "  tf.keras.layers.Softmax()\n",
    "])"
   ]
  },
  {
   "cell_type": "code",
   "execution_count": 4,
   "metadata": {},
   "outputs": [
    {
     "data": {
      "text/plain": [
       "<tf.Tensor: shape=(5, 10), dtype=float32, numpy=\n",
       "array([[2.23823037e-07, 1.17682575e-08, 2.87212106e-06, 1.00463897e-03,\n",
       "        2.75182682e-10, 6.75374352e-08, 1.33169051e-12, 9.98987854e-01,\n",
       "        1.03587681e-07, 4.14318174e-06],\n",
       "       [1.78821138e-05, 5.83171413e-06, 9.97407138e-01, 1.74069370e-04,\n",
       "        8.25443229e-14, 2.39082915e-03, 1.85957583e-06, 2.51180413e-11,\n",
       "        2.35435868e-06, 2.38567656e-13],\n",
       "       [2.29870054e-07, 9.98854041e-01, 1.26027971e-05, 1.64089251e-05,\n",
       "        3.68561923e-05, 1.37010659e-06, 3.01593391e-05, 9.89454566e-04,\n",
       "        5.64829570e-05, 2.29384227e-06],\n",
       "       [9.99449074e-01, 3.51368601e-09, 9.65859799e-05, 7.33836600e-08,\n",
       "        3.08634480e-06, 5.22471282e-07, 4.06205712e-04, 1.49283951e-05,\n",
       "        5.58205038e-09, 2.95781629e-05],\n",
       "       [2.74911599e-06, 6.15598328e-09, 1.18746011e-05, 9.25740764e-08,\n",
       "        9.99355972e-01, 1.33644937e-06, 1.02167387e-05, 7.52246997e-05,\n",
       "        3.04862738e-07, 5.42211928e-04]], dtype=float32)>"
      ]
     },
     "execution_count": 4,
     "metadata": {},
     "output_type": "execute_result"
    }
   ],
   "source": [
    "probability_model(x_test[:5])"
   ]
  }
 ],
 "metadata": {
  "kernelspec": {
   "display_name": "Python 3.8.10 64-bit",
   "language": "python",
   "name": "python3"
  },
  "language_info": {
   "codemirror_mode": {
    "name": "ipython",
    "version": 3
   },
   "file_extension": ".py",
   "mimetype": "text/x-python",
   "name": "python",
   "nbconvert_exporter": "python",
   "pygments_lexer": "ipython3",
   "version": "3.8.10"
  },
  "orig_nbformat": 4,
  "vscode": {
   "interpreter": {
    "hash": "916dbcbb3f70747c44a77c7bcd40155683ae19c65e1c03b4aa3499c5328201f1"
   }
  }
 },
 "nbformat": 4,
 "nbformat_minor": 2
}
